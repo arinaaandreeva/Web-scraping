{
 "cells": [
  {
   "cell_type": "markdown",
   "id": "66d44946",
   "metadata": {},
   "source": [
    "## Skillbox"
   ]
  },
  {
   "cell_type": "markdown",
   "id": "74ed02b7",
   "metadata": {},
   "source": [
    "**web-site:** auto.ru\n",
    "\n",
    "- F12 open codde of the page\n",
    "\n",
    "- Go to network, Fetch\n",
    "\n",
    "- look for \"listing/\". \"list\", \"listing_all\" (у всех сайтов могут быть разные названия, у многих нет API, поэтому не получится)\n",
    "\n",
    "- во вкладке payload можно увидеть какой запрос мы задали\n",
    "\n",
    "- вкладка preview и response это ответ сервера\n",
    "\n",
    "- правая кнопка мыши по listing/ => copy as Node.js fetch => paste it into code to inspect further\n"
   ]
  },
  {
   "cell_type": "code",
   "execution_count": 15,
   "id": "98ba7b4c",
   "metadata": {},
   "outputs": [
    {
     "name": "stdout",
     "output_type": "stream",
     "text": [
      "{'type': 'captcha', 'captcha': {'img-url': '', 'key': '3855f995-cf99eead-e88abacb-e76efdb9_2/1673767187/7d2b41427073e2f30c49f7cb63dc330d_59a42d6739030937f8e8723c806223c2', 'status': '', 'captcha-page': 'https://auto.ru/showcaptcha?mt=1CC2C436C4BEB2BF89BF6478FBD8B57124A7316A4231E8FDAA8B773BD0EA91A3AE80&retpath=aHR0cHM6Ly9hdXRvLnJ1L2NhcnMvcG9yc2NoZS85MTEvYWxsLw%2C%2C_16f6a95a69932ac44fb03d5b63aeb0d7&t=2/1673767187/7d2b41427073e2f30c49f7cb63dc330d&u=fd35db2e-83681657-f617b716-3d1d9a8a&s=eb36fca9e0170326dddfdc2db2c56a9a'}}\n"
     ]
    }
   ],
   "source": [
    "import requests\n",
    "\n",
    "def fetch(url, params):\n",
    "    auto_ru_res = requests.post(url, headers=params['headers'], data=params['body'])\n",
    "    return auto_ru_res.json()\n",
    "\n",
    "response_data = fetch(\"https://auto.ru/-/ajax/desktop/listing/\", {\n",
    "  \"headers\": {\n",
    "    \"accept\": \"*/*\",\n",
    "    \"accept-language\": \"ru-RU,ru;q=0.9,en-US;q=0.8,en;q=0.7\",\n",
    "    \"content-type\": \"application/json\",\n",
    "    \"sec-ch-ua\": \"\\\"Not?A_Brand\\\";v=\\\"8\\\", \\\"Chromium\\\";v=\\\"108\\\", \\\"Google Chrome\\\";v=\\\"108\\\"\",\n",
    "    \"sec-ch-ua-mobile\": \"?0\",\n",
    "    \"sec-ch-ua-platform\": \"\\\"Windows\\\"\",\n",
    "    \"sec-fetch-dest\": \"empty\",\n",
    "    \"sec-fetch-mode\": \"same-origin\",\n",
    "    \"sec-fetch-site\": \"same-origin\",\n",
    "    \"x-client-app-version\": \"250.1.1\",\n",
    "    \"x-client-date\": \"1673765521090\",\n",
    "    \"x-csrf-token\": \"dc7184ac9d2bed9a815d99e86c66aeb3cfc2a395d8551b8a\",\n",
    "    \"x-page-request-id\": \"86eb8074486dbb9fdc9eecca2c8a3446\",\n",
    "    \"x-requested-with\": \"XMLHttpRequest\",\n",
    "    \"x-retpath-y\": \"https://auto.ru/cars/porsche/911/all/\",\n",
    "    \"x-yafp\": \"{\\\"a1\\\":\\\"UFIsrIkLcR9Itw==;0\\\",\\\"a2\\\":\\\"Jq7dLrQeJDuIgYaGONx0gXk50KH2cg==;1\\\",\\\"a3\\\":\\\"Iq6KUcAyejGgzgdgqGohwg==;2\\\",\\\"a4\\\":\\\"lzZnnjRiDJC8GMINtGnTfCl5RfB4fAMSFlGUpoA0WhlH2A==;3\\\",\\\"a5\\\":\\\"GIYHLUd98Bt+UA==;4\\\",\\\"a6\\\":\\\"T6k=;5\\\",\\\"a7\\\":\\\"wZnsbAYmz41BXA==;6\\\",\\\"a8\\\":\\\"QaFpaSnGctM=;7\\\",\\\"a9\\\":\\\"ydL9BiXxkBNn+w==;8\\\",\\\"b1\\\":\\\"WGZKvj5MNnQ=;9\\\",\\\"b2\\\":\\\"+gLenFprKMj5sg==;10\\\",\\\"b3\\\":\\\"AAcWzsekKoYNLQ==;11\\\",\\\"b4\\\":\\\"ITSnbNUxVvc=;12\\\",\\\"b5\\\":\\\"X0Z4ZGV3DdRk3Q==;13\\\",\\\"b6\\\":\\\"UilGClbHFjfauQ==;14\\\",\\\"b7\\\":\\\"0up20vkGC8WNSw==;15\\\",\\\"b8\\\":\\\"+FA+no2BujJZAQ==;16\\\",\\\"b9\\\":\\\"TSwosTHQMFk9tg==;17\\\",\\\"c1\\\":\\\"6DvK7w==;18\\\",\\\"c2\\\":\\\"wNmgq1jAP+q38YeW5BcGPw==;19\\\",\\\"c3\\\":\\\"sRAZAXLC7we+pr4u6oo/rg==;20\\\",\\\"c4\\\":\\\"v21z2mkEZeg=;21\\\",\\\"c5\\\":\\\"ehh5UfSNVm4=;22\\\",\\\"c6\\\":\\\"9v4PhQ==;23\\\",\\\"c7\\\":\\\"Uj3x9Qszx0E=;24\\\",\\\"c8\\\":\\\"7W8=;25\\\",\\\"c9\\\":\\\"wbC/hSpWTvQ=;26\\\",\\\"d1\\\":\\\"dUgwm/E0GsI=;27\\\",\\\"d2\\\":\\\"BgE=;28\\\",\\\"d3\\\":\\\"h0cTn95egUZNNA==;29\\\",\\\"d4\\\":\\\"BZfArsOwdaU=;30\\\",\\\"d5\\\":\\\"SuZrx2Q0yIk=;31\\\",\\\"d7\\\":\\\"ObwD5V9M6b4=;32\\\",\\\"d8\\\":\\\"xfQbgQGHWPtva3Lh8/mULgGz+DO2WRC9AGE=;33\\\",\\\"d9\\\":\\\"D+qVcL+/F/g=;34\\\",\\\"e1\\\":\\\"v18JhYj3l81lDA==;35\\\",\\\"e2\\\":\\\"dP049zoRX5Q=;36\\\",\\\"e3\\\":\\\"JSQG4FI41HY=;37\\\",\\\"e4\\\":\\\"eOoWGxfLlsQ=;38\\\",\\\"e5\\\":\\\"RQMji6OQiE38Cg==;39\\\",\\\"e6\\\":\\\"+oFNkYFXn+Q=;40\\\",\\\"e7\\\":\\\"YuB0d4SLCZF52A==;41\\\",\\\"e8\\\":\\\"+QaXDML56M8=;42\\\",\\\"e9\\\":\\\"fat7BwHEotA=;43\\\",\\\"f1\\\":\\\"UEcD42LKW//rpA==;44\\\",\\\"f2\\\":\\\"8rKFq5vkRQc=;45\\\",\\\"f3\\\":\\\"1OTfddo5Q7n/yA==;46\\\",\\\"f4\\\":\\\"THkCpCOa7xE=;47\\\",\\\"f5\\\":\\\"c6EPMDCECIYc5A==;48\\\",\\\"f6\\\":\\\"sFghf75QwrU0rw==;49\\\",\\\"f7\\\":\\\"Ge/rSlOGUhSAnQ==;50\\\",\\\"f8\\\":\\\"X242BV+CjBwgBQ==;51\\\",\\\"f9\\\":\\\"+U2/luoEsLM=;52\\\",\\\"g1\\\":\\\"rbCDWqEeK2A50Q==;53\\\",\\\"g2\\\":\\\"cFER0PQOp+EOXg==;54\\\",\\\"g3\\\":\\\"Li7UUiCE3yM=;55\\\",\\\"g4\\\":\\\"8JXMiLxAw2XmNQ==;56\\\",\\\"g5\\\":\\\"+7tuP/cgJ8g=;57\\\",\\\"g6\\\":\\\"LVyuL/VVFHU=;58\\\",\\\"g7\\\":\\\"PaY+1/nxWgA=;59\\\",\\\"g8\\\":\\\"EwazE1GEZ+Y=;60\\\",\\\"g9\\\":\\\"//IyQtvcWDQ=;61\\\",\\\"h1\\\":\\\"wScnxWFncGhYiQ==;62\\\",\\\"h2\\\":\\\"ZaH0M7kDYl/kSA==;63\\\",\\\"h3\\\":\\\"xnV0UpQymVpRSQ==;64\\\",\\\"h4\\\":\\\"cH0LAZvSkVtvQQ==;65\\\",\\\"h5\\\":\\\"vhcgalbIp7c=;66\\\",\\\"h6\\\":\\\"riS5hGVAJ08lBw==;67\\\",\\\"h7\\\":\\\"0ocP7sFJKZPBVVv5rlVA+r4Uf+b1aClQTozTQgU61k88SU0T;68\\\",\\\"h8\\\":\\\"lgAhxdIPry0iIA==;69\\\",\\\"h9\\\":\\\"6Pm3kUQc7HB3oQ==;70\\\",\\\"i1\\\":\\\"f7WR6rn2qsc=;71\\\",\\\"i2\\\":\\\"oK9KJQo95HG6hg==;72\\\",\\\"i3\\\":\\\"Ipe5ebGkwhrGMA==;73\\\",\\\"i4\\\":\\\"X70yReYzIEo8ag==;74\\\",\\\"i5\\\":\\\"HRLOT7nqEMoSzQ==;75\\\",\\\"z1\\\":\\\"GEm8Mw7LDDRpZ6l5d8Cy369ETJ/t6y0H+Qje8Na2Ehhsd/gmhOXIBht3SWyzL4nSm8kY7mB+67xzLXK025C/cg==;76\\\",\\\"z2\\\":\\\"SafM4XjYZDxpAa0YvTq5Cp/EbjCeUyOxdDxXhpPSUtMziGl0EEUjneKix+MpVmMjXU0aZ9uDhm5LhdE5RYlpSg==;77\\\",\\\"y2\\\":\\\"Ikxz06BfP5VnQA==;78\\\",\\\"y3\\\":\\\"JtP8P9biJF2e5A==;79\\\",\\\"y6\\\":\\\"WrGjXxR3778+8Q==;80\\\",\\\"y8\\\":\\\"5zZA4DAhbpgAJA==;81\\\",\\\"x4\\\":\\\"2Obg9I4g+WjX+g==;82\\\",\\\"z5\\\":\\\"besYBHmNdks=;83\\\",\\\"z4\\\":\\\"GieC0u0K7SfWHg==;84\\\",\\\"z6\\\":\\\"8GqhWm38v9HI2gbz;85\\\",\\\"z7\\\":\\\"eLFk4OhEIrDD8olj;86\\\",\\\"z8\\\":\\\"XSmNitSHEarNOkD959A=;87\\\",\\\"z9\\\":\\\"PmFZLhmM8qadgHp2;88\\\",\\\"y1\\\":\\\"thx1YN3fmBekJxes;89\\\",\\\"y4\\\":\\\"vCkuBoin7VI4QYQD;90\\\",\\\"y5\\\":\\\"DSK64amLHd+zt2JgHFE=;91\\\",\\\"y7\\\":\\\"93Dtl4gRZln1IF1A;92\\\",\\\"y9\\\":\\\"zQ8+8z94oioE8+aRTcA=;93\\\",\\\"y10\\\":\\\"zvbMxi0/1C21jMi1aSc=;94\\\",\\\"x1\\\":\\\"MFeUnfokJAQV2kqo;95\\\",\\\"x2\\\":\\\"MoSFUjA0qMm1HLk51Vw=;96\\\",\\\"x3\\\":\\\"h6Duk6PI6ZM44bCL;97\\\",\\\"x5\\\":\\\"UoDdwWnTip3c3Hb1;98\\\",\\\"z3\\\":\\\"GxR9jahypqAw8vSNOFcm6PPiA0NsGlkrID4LNBrIKiE=;99\\\",\\\"v\\\":\\\"6.3.1\\\",\\\"pgrdt\\\":\\\"FaZg2Llu7pXi32t5VYy4YKTFOC8=;100\\\",\\\"pgrd\\\":\\\"Th0xfhZ/b0fmgCPNywQSHMejNmws9Ua9R7LZAZAggNyJ0psTzZOh9FlMFjtc1ihydeu75BfqkkuI8pmJ3DkZCOxDM7xUwowqfeLMW/y2JbDDhAAFHJqejvRKUfVqCpq9X8u7p9KtRFQghDdxceg2eQe56rDfeOuH9ReSfAQfNyn9MQ8TuDnpGha4zcji9yYq0N1PV7j4+zOVfuLmEXfzBghfddk=\\\"}\",\n",
    "    \"cookie\": \"suid=70796aef0dab3b9c35dc2d43188672ef.144c61b3cbb9281fede99003d79d9c62; _csrf_token=dc7184ac9d2bed9a815d99e86c66aeb3cfc2a395d8551b8a; autoru_sid=a%3Ag63c3a1a82na8qolps2523tr9ghnme3o.93351bca1044b0feea5b2ebfc95c1807%7C1673765288197.604800.IpLm64zNEGA4DX-O-IjTMQ.h_zuUHlERe3d34jmIGnlgNcpXu2YBpyQszCp_R8luWs; autoruuid=g63c3a1a82na8qolps2523tr9ghnme3o.93351bca1044b0feea5b2ebfc95c1807; from=google-search; counter_ga_all7=1; yuidlt=1; yandexuid=9565146631606302323; crookie=frp5HP4E57iof5ngpe28xalD9weFSs2/1RoobBxN6bpjg3JY5I94u8TzvQ0SRoUNUrZvDlvacTqIQRU+Jzghu+iIZK4=; cmtchd=MTY3Mzc2NTI5MTY0NQ==; gdpr=0; _ym_uid=1673765298525231241; Session_id=3:1673765298.5.0.1673677523319:QLiqHw:56.1.2:1|1130000058343073.-1.0|61:10010331.790136.GTJimyhOjdBiNFsJHLrNm9i0hR0; yandex_login=aaandreeva_14@edu.hse.ru; ys=udn.cDphYWFuZHJlZXZhXzE0QGVkdS5oc2UucnU%3D#c_chck.4286197223; i=lkyEuZQhRNNWu6N4Fql+qQnljnGr4bIy0CG4Hy2zQmcUA/yZfxbU1aBNCXhVbkKjmGt0v3urt7e4Ea1jjfv/1DnpC4g=; mda2_beacon=1673765298616; sso_status=sso.passport.yandex.ru:synchronized; _ym_isad=2; _yasc=FPi876F3buWfiD2IbJyPVWpifB5JwShCKCcbeeHOETunzLE2B2FHs8joAupVAbw=; _ym_d=1673765341; layout-config={\\\"screen_height\\\":864,\\\"screen_width\\\":1536,\\\"win_width\\\":964.7999877929688,\\\"win_height\\\":753.5999755859375}; from_lifetime=1673765522154\",\n",
    "    \"Referer\": \"https://auto.ru/cars/porsche/911/all/\",\n",
    "    \"Referrer-Policy\": \"no-referrer-when-downgrade\"\n",
    "  },\n",
    "  \"body\": \"{\\\"catalog_filter\\\":[{\\\"mark\\\":\\\"PORSCHE\\\",\\\"model\\\":\\\"911\\\"}],\\\"section\\\":\\\"all\\\",\\\"category\\\":\\\"cars\\\",\\\"output_type\\\":\\\"list\\\",\\\"geo_id\\\":[]}\",\n",
    "  \"method\": \"POST\"\n",
    "});\n",
    "\n",
    "print(response_data)"
   ]
  },
  {
   "cell_type": "code",
   "execution_count": null,
   "id": "163bc915",
   "metadata": {},
   "outputs": [],
   "source": []
  },
  {
   "cell_type": "code",
   "execution_count": null,
   "id": "819132ce",
   "metadata": {},
   "outputs": [],
   "source": []
  },
  {
   "cell_type": "markdown",
   "id": "414be792",
   "metadata": {},
   "source": [
    "## Youtube video"
   ]
  },
  {
   "cell_type": "code",
   "execution_count": 1,
   "id": "c9cb11af",
   "metadata": {},
   "outputs": [],
   "source": [
    "from selenium import webdriver\n",
    "from selenium.webdriver.common.keys import Keys\n",
    "from selenium.webdriver.common.by import By\n",
    "from numpy import inf\n",
    "import time\n",
    "import re "
   ]
  },
  {
   "cell_type": "code",
   "execution_count": 2,
   "id": "aef5714b",
   "metadata": {},
   "outputs": [
    {
     "name": "stderr",
     "output_type": "stream",
     "text": [
      "C:\\Users\\user\\AppData\\Local\\Temp/ipykernel_9460/564733570.py:1: DeprecationWarning: executable_path has been deprecated, please pass in a Service object\n",
      "  browser = webdriver.Chrome(executable_path=\"./chromedriver\")\n"
     ]
    }
   ],
   "source": [
    "browser = webdriver.Chrome(executable_path=\"./chromedriver\")"
   ]
  },
  {
   "cell_type": "code",
   "execution_count": null,
   "id": "16746d00",
   "metadata": {},
   "outputs": [],
   "source": [
    "\n"
   ]
  },
  {
   "cell_type": "code",
   "execution_count": null,
   "id": "782cbc87",
   "metadata": {},
   "outputs": [],
   "source": []
  }
 ],
 "metadata": {
  "kernelspec": {
   "display_name": "Python 3 (ipykernel)",
   "language": "python",
   "name": "python3"
  },
  "language_info": {
   "codemirror_mode": {
    "name": "ipython",
    "version": 3
   },
   "file_extension": ".py",
   "mimetype": "text/x-python",
   "name": "python",
   "nbconvert_exporter": "python",
   "pygments_lexer": "ipython3",
   "version": "3.9.7"
  }
 },
 "nbformat": 4,
 "nbformat_minor": 5
}
