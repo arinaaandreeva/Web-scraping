{
 "cells": [
  {
   "cell_type": "code",
   "execution_count": 1,
   "id": "43338b28",
   "metadata": {},
   "outputs": [
    {
     "name": "stdout",
     "output_type": "stream",
     "text": [
      "Requirement already satisfied: selenium in c:\\users\\user\\anaconda3\\lib\\site-packages (4.1.5)\n",
      "Requirement already satisfied: trio~=0.17 in c:\\users\\user\\anaconda3\\lib\\site-packages (from selenium) (0.20.0)\n",
      "Requirement already satisfied: trio-websocket~=0.9 in c:\\users\\user\\anaconda3\\lib\\site-packages (from selenium) (0.9.2)\n",
      "Requirement already satisfied: urllib3[secure,socks]~=1.26 in c:\\users\\user\\anaconda3\\lib\\site-packages (from selenium) (1.26.7)\n",
      "Requirement already satisfied: outcome in c:\\users\\user\\anaconda3\\lib\\site-packages (from trio~=0.17->selenium) (1.1.0)\n",
      "Requirement already satisfied: sniffio in c:\\users\\user\\anaconda3\\lib\\site-packages (from trio~=0.17->selenium) (1.2.0)\n",
      "Requirement already satisfied: idna in c:\\users\\user\\anaconda3\\lib\\site-packages (from trio~=0.17->selenium) (3.2)\n",
      "Requirement already satisfied: async-generator>=1.9 in c:\\users\\user\\anaconda3\\lib\\site-packages (from trio~=0.17->selenium) (1.10)\n",
      "Requirement already satisfied: sortedcontainers in c:\\users\\user\\anaconda3\\lib\\site-packages (from trio~=0.17->selenium) (2.4.0)\n",
      "Requirement already satisfied: cffi>=1.14 in c:\\users\\user\\anaconda3\\lib\\site-packages (from trio~=0.17->selenium) (1.14.6)\n",
      "Requirement already satisfied: attrs>=19.2.0 in c:\\users\\user\\anaconda3\\lib\\site-packages (from trio~=0.17->selenium) (21.2.0)\n",
      "Requirement already satisfied: pycparser in c:\\users\\user\\anaconda3\\lib\\site-packages (from cffi>=1.14->trio~=0.17->selenium) (2.20)\n",
      "Requirement already satisfied: wsproto>=0.14 in c:\\users\\user\\anaconda3\\lib\\site-packages (from trio-websocket~=0.9->selenium) (1.1.0)\n",
      "Requirement already satisfied: pyOpenSSL>=0.14 in c:\\users\\user\\anaconda3\\lib\\site-packages (from urllib3[secure,socks]~=1.26->selenium) (21.0.0)\n",
      "Requirement already satisfied: cryptography>=1.3.4 in c:\\users\\user\\anaconda3\\lib\\site-packages (from urllib3[secure,socks]~=1.26->selenium) (3.4.8)\n",
      "Requirement already satisfied: certifi in c:\\users\\user\\anaconda3\\lib\\site-packages (from urllib3[secure,socks]~=1.26->selenium) (2021.10.8)\n",
      "Requirement already satisfied: PySocks!=1.5.7,<2.0,>=1.5.6 in c:\\users\\user\\anaconda3\\lib\\site-packages (from urllib3[secure,socks]~=1.26->selenium) (1.7.1)\n",
      "Requirement already satisfied: six>=1.5.2 in c:\\users\\user\\anaconda3\\lib\\site-packages (from pyOpenSSL>=0.14->urllib3[secure,socks]~=1.26->selenium) (1.16.0)\n",
      "Requirement already satisfied: h11<1,>=0.9.0 in c:\\users\\user\\anaconda3\\lib\\site-packages (from wsproto>=0.14->trio-websocket~=0.9->selenium) (0.13.0)\n"
     ]
    }
   ],
   "source": [
    "!pip install selenium "
   ]
  },
  {
   "cell_type": "code",
   "execution_count": 1,
   "id": "362b3180",
   "metadata": {},
   "outputs": [],
   "source": [
    "from selenium import webdriver\n",
    "from selenium.webdriver.common.keys import Keys\n",
    "from selenium.webdriver.common.by import By\n",
    "from numpy import inf\n",
    "import time\n",
    "import re "
   ]
  },
  {
   "cell_type": "code",
   "execution_count": 39,
   "id": "ef674bb7",
   "metadata": {},
   "outputs": [],
   "source": [
    "ENTRY_ADDRESS = 'https://www.shanghairanking.com/rankings/arwu/2021'\n",
    "\n",
    "YEAR_MENU_CSS_SELECTOR = 'input.year-bg'\n",
    "\n",
    "YEAR_OPTIONS_CSS_SELECTOR = 'div.rk-tooltip > ul.options > li'\n",
    "\n",
    "PAGE_TITLE_CSS_SELECTOR = 'div.content-title > h1'"
   ]
  },
  {
   "cell_type": "code",
   "execution_count": 40,
   "id": "b9b69739",
   "metadata": {},
   "outputs": [
    {
     "name": "stderr",
     "output_type": "stream",
     "text": [
      "C:\\Users\\user\\AppData\\Local\\Temp/ipykernel_13628/564733570.py:1: DeprecationWarning: executable_path has been deprecated, please pass in a Service object\n",
      "  browser = webdriver.Chrome(executable_path=\"./chromedriver\")\n"
     ]
    }
   ],
   "source": [
    "browser = webdriver.Chrome(executable_path=\"./chromedriver\")"
   ]
  },
  {
   "cell_type": "code",
   "execution_count": 41,
   "id": "f49c0b95",
   "metadata": {},
   "outputs": [],
   "source": [
    "browser.get(ENTRY_ADDRESS)"
   ]
  },
  {
   "cell_type": "code",
   "execution_count": 6,
   "id": "0c23c87b",
   "metadata": {},
   "outputs": [],
   "source": [
    "year_menu = browser.find_element(By.CSS_SELECTOR, YEAR_MENU_CSS_SELECTOR)"
   ]
  },
  {
   "cell_type": "code",
   "execution_count": 7,
   "id": "50d04967",
   "metadata": {},
   "outputs": [],
   "source": [
    "year_menu.click()"
   ]
  },
  {
   "cell_type": "code",
   "execution_count": 8,
   "id": "ccbe77cf",
   "metadata": {},
   "outputs": [],
   "source": [
    "C_YEAR = 2006"
   ]
  },
  {
   "cell_type": "code",
   "execution_count": 9,
   "id": "5be22470",
   "metadata": {},
   "outputs": [],
   "source": [
    "year_menu_items = browser.find_elements(By.CSS_SELECTOR, YEAR_OPTIONS_CSS_SELECTOR)\n",
    "for ymi in year_menu_items:\n",
    "    if ymi.text.strip() == str(C_YEAR):\n",
    "        ymi.click()\n",
    "        break"
   ]
  },
  {
   "cell_type": "code",
   "execution_count": 13,
   "id": "9677c015",
   "metadata": {},
   "outputs": [],
   "source": [
    "while True:\n",
    "    page_title = browser.find_element(By.CSS_SELECTOR, PAGE_TITLE_CSS_SELECTOR)\n",
    "    if page_title.text.strip().startswith(str(C_YEAR)):\n",
    "        break\n",
    "    else:\n",
    "        time.sleep(0.05)"
   ]
  },
  {
   "cell_type": "code",
   "execution_count": 42,
   "id": "0f6996fc",
   "metadata": {},
   "outputs": [],
   "source": [
    "def select_year(year):\n",
    "    year_menu = browser.find_element(By.CSS_SELECTOR, YEAR_MENU_CSS_SELECTOR)\n",
    "    year_menu.click()\n",
    "    year_menu_items = browser.find_elements(By.CSS_SELECTOR, YEAR_OPTIONS_CSS_SELECTOR)\n",
    "    for ymi in year_menu_items:\n",
    "        if ymi.text.strip() == str(C_YEAR):\n",
    "            ymi.click()\n",
    "            while True:\n",
    "                page_title = browser.find_element(By.CSS_SELECTOR, PAGE_TITLE_CSS_SELECTOR)\n",
    "                if page_title.text.strip().startswith(str(C_YEAR)):\n",
    "                    return\n",
    "                else:\n",
    "                    time.sleep(0.05)\n",
    "    year_menu.click()\n",
    "    raise Exception('Could not find year')"
   ]
  },
  {
   "cell_type": "code",
   "execution_count": 43,
   "id": "26b64bde",
   "metadata": {},
   "outputs": [],
   "source": [
    "select_year(2008)"
   ]
  },
  {
   "cell_type": "code",
   "execution_count": 44,
   "id": "fdf5d9bc",
   "metadata": {},
   "outputs": [
    {
     "ename": "ElementClickInterceptedException",
     "evalue": "Message: element click intercepted: Element <input data-v-24ba571f=\"\" type=\"text\" readonly=\"readonly\" placeholder=\"\" class=\"year-bg\"> is not clickable at point (764, 16). Other element would receive the click: <a href=\"/rankings/arwu/2006\" aria-current=\"page\" class=\"nuxt-link-exact-active nuxt-link-active\" data-v-593990c8=\"\">...</a>\n  (Session info: chrome=109.0.5414.75)\nStacktrace:\nBacktrace:\n\t(No symbol) [0x0030F243]\n\t(No symbol) [0x00297FD1]\n\t(No symbol) [0x0018D04D]\n\t(No symbol) [0x001C28B9]\n\t(No symbol) [0x001C08CC]\n\t(No symbol) [0x001BE4CB]\n\t(No symbol) [0x001BD164]\n\t(No symbol) [0x001B32A6]\n\t(No symbol) [0x001D858C]\n\t(No symbol) [0x001B2BFF]\n\t(No symbol) [0x001D8804]\n\t(No symbol) [0x001EC9EB]\n\t(No symbol) [0x001D8386]\n\t(No symbol) [0x001B163C]\n\t(No symbol) [0x001B269D]\n\tGetHandleVerifier [0x005A9A22+2655074]\n\tGetHandleVerifier [0x0059CA24+2601828]\n\tGetHandleVerifier [0x003B8C0A+619850]\n\tGetHandleVerifier [0x003B7830+614768]\n\t(No symbol) [0x002A05FC]\n\t(No symbol) [0x002A5968]\n\t(No symbol) [0x002A5A55]\n\t(No symbol) [0x002B051B]\n\tBaseThreadInitThunk [0x76C400F9+25]\n\tRtlGetAppContainerNamedObjectPath [0x77C87BBE+286]\n\tRtlGetAppContainerNamedObjectPath [0x77C87B8E+238]\n",
     "output_type": "error",
     "traceback": [
      "\u001b[1;31m---------------------------------------------------------------------------\u001b[0m",
      "\u001b[1;31mElementClickInterceptedException\u001b[0m          Traceback (most recent call last)",
      "\u001b[1;32m~\\AppData\\Local\\Temp/ipykernel_13628/1359116410.py\u001b[0m in \u001b[0;36m<module>\u001b[1;34m\u001b[0m\n\u001b[1;32m----> 1\u001b[1;33m \u001b[0mselect_year\u001b[0m\u001b[1;33m(\u001b[0m\u001b[1;36m1990\u001b[0m\u001b[1;33m)\u001b[0m\u001b[1;33m\u001b[0m\u001b[1;33m\u001b[0m\u001b[0m\n\u001b[0m",
      "\u001b[1;32m~\\AppData\\Local\\Temp/ipykernel_13628/386434809.py\u001b[0m in \u001b[0;36mselect_year\u001b[1;34m(year)\u001b[0m\n\u001b[0;32m      1\u001b[0m \u001b[1;32mdef\u001b[0m \u001b[0mselect_year\u001b[0m\u001b[1;33m(\u001b[0m\u001b[0myear\u001b[0m\u001b[1;33m)\u001b[0m\u001b[1;33m:\u001b[0m\u001b[1;33m\u001b[0m\u001b[1;33m\u001b[0m\u001b[0m\n\u001b[0;32m      2\u001b[0m     \u001b[0myear_menu\u001b[0m \u001b[1;33m=\u001b[0m \u001b[0mbrowser\u001b[0m\u001b[1;33m.\u001b[0m\u001b[0mfind_element\u001b[0m\u001b[1;33m(\u001b[0m\u001b[0mBy\u001b[0m\u001b[1;33m.\u001b[0m\u001b[0mCSS_SELECTOR\u001b[0m\u001b[1;33m,\u001b[0m \u001b[0mYEAR_MENU_CSS_SELECTOR\u001b[0m\u001b[1;33m)\u001b[0m\u001b[1;33m\u001b[0m\u001b[1;33m\u001b[0m\u001b[0m\n\u001b[1;32m----> 3\u001b[1;33m     \u001b[0myear_menu\u001b[0m\u001b[1;33m.\u001b[0m\u001b[0mclick\u001b[0m\u001b[1;33m(\u001b[0m\u001b[1;33m)\u001b[0m\u001b[1;33m\u001b[0m\u001b[1;33m\u001b[0m\u001b[0m\n\u001b[0m\u001b[0;32m      4\u001b[0m     \u001b[0myear_menu_items\u001b[0m \u001b[1;33m=\u001b[0m \u001b[0mbrowser\u001b[0m\u001b[1;33m.\u001b[0m\u001b[0mfind_elements\u001b[0m\u001b[1;33m(\u001b[0m\u001b[0mBy\u001b[0m\u001b[1;33m.\u001b[0m\u001b[0mCSS_SELECTOR\u001b[0m\u001b[1;33m,\u001b[0m \u001b[0mYEAR_OPTIONS_CSS_SELECTOR\u001b[0m\u001b[1;33m)\u001b[0m\u001b[1;33m\u001b[0m\u001b[1;33m\u001b[0m\u001b[0m\n\u001b[0;32m      5\u001b[0m     \u001b[1;32mfor\u001b[0m \u001b[0mymi\u001b[0m \u001b[1;32min\u001b[0m \u001b[0myear_menu_items\u001b[0m\u001b[1;33m:\u001b[0m\u001b[1;33m\u001b[0m\u001b[1;33m\u001b[0m\u001b[0m\n",
      "\u001b[1;32m~\\anaconda3\\lib\\site-packages\\selenium\\webdriver\\remote\\webelement.py\u001b[0m in \u001b[0;36mclick\u001b[1;34m(self)\u001b[0m\n\u001b[0;32m     79\u001b[0m     \u001b[1;32mdef\u001b[0m \u001b[0mclick\u001b[0m\u001b[1;33m(\u001b[0m\u001b[0mself\u001b[0m\u001b[1;33m)\u001b[0m \u001b[1;33m->\u001b[0m \u001b[1;32mNone\u001b[0m\u001b[1;33m:\u001b[0m\u001b[1;33m\u001b[0m\u001b[1;33m\u001b[0m\u001b[0m\n\u001b[0;32m     80\u001b[0m         \u001b[1;34m\"\"\"Clicks the element.\"\"\"\u001b[0m\u001b[1;33m\u001b[0m\u001b[1;33m\u001b[0m\u001b[0m\n\u001b[1;32m---> 81\u001b[1;33m         \u001b[0mself\u001b[0m\u001b[1;33m.\u001b[0m\u001b[0m_execute\u001b[0m\u001b[1;33m(\u001b[0m\u001b[0mCommand\u001b[0m\u001b[1;33m.\u001b[0m\u001b[0mCLICK_ELEMENT\u001b[0m\u001b[1;33m)\u001b[0m\u001b[1;33m\u001b[0m\u001b[1;33m\u001b[0m\u001b[0m\n\u001b[0m\u001b[0;32m     82\u001b[0m \u001b[1;33m\u001b[0m\u001b[0m\n\u001b[0;32m     83\u001b[0m     \u001b[1;32mdef\u001b[0m \u001b[0msubmit\u001b[0m\u001b[1;33m(\u001b[0m\u001b[0mself\u001b[0m\u001b[1;33m)\u001b[0m\u001b[1;33m:\u001b[0m\u001b[1;33m\u001b[0m\u001b[1;33m\u001b[0m\u001b[0m\n",
      "\u001b[1;32m~\\anaconda3\\lib\\site-packages\\selenium\\webdriver\\remote\\webelement.py\u001b[0m in \u001b[0;36m_execute\u001b[1;34m(self, command, params)\u001b[0m\n\u001b[0;32m    738\u001b[0m             \u001b[0mparams\u001b[0m \u001b[1;33m=\u001b[0m \u001b[1;33m{\u001b[0m\u001b[1;33m}\u001b[0m\u001b[1;33m\u001b[0m\u001b[1;33m\u001b[0m\u001b[0m\n\u001b[0;32m    739\u001b[0m         \u001b[0mparams\u001b[0m\u001b[1;33m[\u001b[0m\u001b[1;34m'id'\u001b[0m\u001b[1;33m]\u001b[0m \u001b[1;33m=\u001b[0m \u001b[0mself\u001b[0m\u001b[1;33m.\u001b[0m\u001b[0m_id\u001b[0m\u001b[1;33m\u001b[0m\u001b[1;33m\u001b[0m\u001b[0m\n\u001b[1;32m--> 740\u001b[1;33m         \u001b[1;32mreturn\u001b[0m \u001b[0mself\u001b[0m\u001b[1;33m.\u001b[0m\u001b[0m_parent\u001b[0m\u001b[1;33m.\u001b[0m\u001b[0mexecute\u001b[0m\u001b[1;33m(\u001b[0m\u001b[0mcommand\u001b[0m\u001b[1;33m,\u001b[0m \u001b[0mparams\u001b[0m\u001b[1;33m)\u001b[0m\u001b[1;33m\u001b[0m\u001b[1;33m\u001b[0m\u001b[0m\n\u001b[0m\u001b[0;32m    741\u001b[0m \u001b[1;33m\u001b[0m\u001b[0m\n\u001b[0;32m    742\u001b[0m     \u001b[1;32mdef\u001b[0m \u001b[0mfind_element\u001b[0m\u001b[1;33m(\u001b[0m\u001b[0mself\u001b[0m\u001b[1;33m,\u001b[0m \u001b[0mby\u001b[0m\u001b[1;33m=\u001b[0m\u001b[0mBy\u001b[0m\u001b[1;33m.\u001b[0m\u001b[0mID\u001b[0m\u001b[1;33m,\u001b[0m \u001b[0mvalue\u001b[0m\u001b[1;33m=\u001b[0m\u001b[1;32mNone\u001b[0m\u001b[1;33m)\u001b[0m\u001b[1;33m:\u001b[0m\u001b[1;33m\u001b[0m\u001b[1;33m\u001b[0m\u001b[0m\n",
      "\u001b[1;32m~\\anaconda3\\lib\\site-packages\\selenium\\webdriver\\remote\\webdriver.py\u001b[0m in \u001b[0;36mexecute\u001b[1;34m(self, driver_command, params)\u001b[0m\n\u001b[0;32m    428\u001b[0m         \u001b[0mresponse\u001b[0m \u001b[1;33m=\u001b[0m \u001b[0mself\u001b[0m\u001b[1;33m.\u001b[0m\u001b[0mcommand_executor\u001b[0m\u001b[1;33m.\u001b[0m\u001b[0mexecute\u001b[0m\u001b[1;33m(\u001b[0m\u001b[0mdriver_command\u001b[0m\u001b[1;33m,\u001b[0m \u001b[0mparams\u001b[0m\u001b[1;33m)\u001b[0m\u001b[1;33m\u001b[0m\u001b[1;33m\u001b[0m\u001b[0m\n\u001b[0;32m    429\u001b[0m         \u001b[1;32mif\u001b[0m \u001b[0mresponse\u001b[0m\u001b[1;33m:\u001b[0m\u001b[1;33m\u001b[0m\u001b[1;33m\u001b[0m\u001b[0m\n\u001b[1;32m--> 430\u001b[1;33m             \u001b[0mself\u001b[0m\u001b[1;33m.\u001b[0m\u001b[0merror_handler\u001b[0m\u001b[1;33m.\u001b[0m\u001b[0mcheck_response\u001b[0m\u001b[1;33m(\u001b[0m\u001b[0mresponse\u001b[0m\u001b[1;33m)\u001b[0m\u001b[1;33m\u001b[0m\u001b[1;33m\u001b[0m\u001b[0m\n\u001b[0m\u001b[0;32m    431\u001b[0m             response['value'] = self._unwrap_value(\n\u001b[0;32m    432\u001b[0m                 response.get('value', None))\n",
      "\u001b[1;32m~\\anaconda3\\lib\\site-packages\\selenium\\webdriver\\remote\\errorhandler.py\u001b[0m in \u001b[0;36mcheck_response\u001b[1;34m(self, response)\u001b[0m\n\u001b[0;32m    245\u001b[0m                 \u001b[0malert_text\u001b[0m \u001b[1;33m=\u001b[0m \u001b[0mvalue\u001b[0m\u001b[1;33m[\u001b[0m\u001b[1;34m'alert'\u001b[0m\u001b[1;33m]\u001b[0m\u001b[1;33m.\u001b[0m\u001b[0mget\u001b[0m\u001b[1;33m(\u001b[0m\u001b[1;34m'text'\u001b[0m\u001b[1;33m)\u001b[0m\u001b[1;33m\u001b[0m\u001b[1;33m\u001b[0m\u001b[0m\n\u001b[0;32m    246\u001b[0m             \u001b[1;32mraise\u001b[0m \u001b[0mexception_class\u001b[0m\u001b[1;33m(\u001b[0m\u001b[0mmessage\u001b[0m\u001b[1;33m,\u001b[0m \u001b[0mscreen\u001b[0m\u001b[1;33m,\u001b[0m \u001b[0mstacktrace\u001b[0m\u001b[1;33m,\u001b[0m \u001b[0malert_text\u001b[0m\u001b[1;33m)\u001b[0m  \u001b[1;31m# type: ignore[call-arg]  # mypy is not smart enough here\u001b[0m\u001b[1;33m\u001b[0m\u001b[1;33m\u001b[0m\u001b[0m\n\u001b[1;32m--> 247\u001b[1;33m         \u001b[1;32mraise\u001b[0m \u001b[0mexception_class\u001b[0m\u001b[1;33m(\u001b[0m\u001b[0mmessage\u001b[0m\u001b[1;33m,\u001b[0m \u001b[0mscreen\u001b[0m\u001b[1;33m,\u001b[0m \u001b[0mstacktrace\u001b[0m\u001b[1;33m)\u001b[0m\u001b[1;33m\u001b[0m\u001b[1;33m\u001b[0m\u001b[0m\n\u001b[0m\u001b[0;32m    248\u001b[0m \u001b[1;33m\u001b[0m\u001b[0m\n\u001b[0;32m    249\u001b[0m     \u001b[1;32mdef\u001b[0m \u001b[0m_value_or_default\u001b[0m\u001b[1;33m(\u001b[0m\u001b[0mself\u001b[0m\u001b[1;33m,\u001b[0m \u001b[0mobj\u001b[0m\u001b[1;33m:\u001b[0m \u001b[0mMapping\u001b[0m\u001b[1;33m[\u001b[0m\u001b[0m_KT\u001b[0m\u001b[1;33m,\u001b[0m \u001b[0m_VT\u001b[0m\u001b[1;33m]\u001b[0m\u001b[1;33m,\u001b[0m \u001b[0mkey\u001b[0m\u001b[1;33m:\u001b[0m \u001b[0m_KT\u001b[0m\u001b[1;33m,\u001b[0m \u001b[0mdefault\u001b[0m\u001b[1;33m:\u001b[0m \u001b[0m_VT\u001b[0m\u001b[1;33m)\u001b[0m \u001b[1;33m->\u001b[0m \u001b[0m_VT\u001b[0m\u001b[1;33m:\u001b[0m\u001b[1;33m\u001b[0m\u001b[1;33m\u001b[0m\u001b[0m\n",
      "\u001b[1;31mElementClickInterceptedException\u001b[0m: Message: element click intercepted: Element <input data-v-24ba571f=\"\" type=\"text\" readonly=\"readonly\" placeholder=\"\" class=\"year-bg\"> is not clickable at point (764, 16). Other element would receive the click: <a href=\"/rankings/arwu/2006\" aria-current=\"page\" class=\"nuxt-link-exact-active nuxt-link-active\" data-v-593990c8=\"\">...</a>\n  (Session info: chrome=109.0.5414.75)\nStacktrace:\nBacktrace:\n\t(No symbol) [0x0030F243]\n\t(No symbol) [0x00297FD1]\n\t(No symbol) [0x0018D04D]\n\t(No symbol) [0x001C28B9]\n\t(No symbol) [0x001C08CC]\n\t(No symbol) [0x001BE4CB]\n\t(No symbol) [0x001BD164]\n\t(No symbol) [0x001B32A6]\n\t(No symbol) [0x001D858C]\n\t(No symbol) [0x001B2BFF]\n\t(No symbol) [0x001D8804]\n\t(No symbol) [0x001EC9EB]\n\t(No symbol) [0x001D8386]\n\t(No symbol) [0x001B163C]\n\t(No symbol) [0x001B269D]\n\tGetHandleVerifier [0x005A9A22+2655074]\n\tGetHandleVerifier [0x0059CA24+2601828]\n\tGetHandleVerifier [0x003B8C0A+619850]\n\tGetHandleVerifier [0x003B7830+614768]\n\t(No symbol) [0x002A05FC]\n\t(No symbol) [0x002A5968]\n\t(No symbol) [0x002A5A55]\n\t(No symbol) [0x002B051B]\n\tBaseThreadInitThunk [0x76C400F9+25]\n\tRtlGetAppContainerNamedObjectPath [0x77C87BBE+286]\n\tRtlGetAppContainerNamedObjectPath [0x77C87B8E+238]\n"
     ]
    }
   ],
   "source": [
    "select_year(1990)"
   ]
  },
  {
   "cell_type": "code",
   "execution_count": 16,
   "id": "500b477c",
   "metadata": {},
   "outputs": [],
   "source": [
    "browser.close()"
   ]
  },
  {
   "cell_type": "code",
   "execution_count": 21,
   "id": "24f8381f",
   "metadata": {},
   "outputs": [],
   "source": []
  },
  {
   "cell_type": "markdown",
   "id": "6354fcdd",
   "metadata": {},
   "source": [
    "## Skillbox webinar  "
   ]
  },
  {
   "cell_type": "code",
   "execution_count": 55,
   "id": "226f965f",
   "metadata": {},
   "outputs": [],
   "source": [
    "def parse_hh(job_title):\n",
    "    browser = webdriver.Chrome(executable_path=\"./chromedriver\")\n",
    "    browser.maximize_window()\n",
    "    browser.get('https://nn.hh.ru/')\n",
    "    search_input = browser.find_element(By.ID,'a11y-search-input')\n",
    "    search_input.send_keys(job_title)\n",
    "    search_button = browser.find_element(By.CSS_SELECTOR,'button[data-qa=\"search-button\"]')\n",
    "    search_button.click()\n",
    "    header = browser.find_element(By.CSS_SELECTOR, '[data-qa =\"vacancies-search-header\"]')\n",
    "    count = re.sub(r\"\\D\", \"\", header.text)\n",
    "    print(f'{count} vacansies were found')\n",
    "    browser.close()"
   ]
  },
  {
   "cell_type": "code",
   "execution_count": 56,
   "id": "4cbd5127",
   "metadata": {},
   "outputs": [
    {
     "name": "stderr",
     "output_type": "stream",
     "text": [
      "C:\\Users\\user\\AppData\\Local\\Temp/ipykernel_37796/1901049264.py:2: DeprecationWarning: executable_path has been deprecated, please pass in a Service object\n",
      "  browser = webdriver.Chrome(executable_path=\"./chromedriver\")\n"
     ]
    },
    {
     "name": "stdout",
     "output_type": "stream",
     "text": [
      "8 vacansies were found\n"
     ]
    }
   ],
   "source": [
    "parse_hh(job_title = 'Python Junior')"
   ]
  },
  {
   "cell_type": "code",
   "execution_count": 61,
   "id": "40af2911",
   "metadata": {},
   "outputs": [
    {
     "name": "stdout",
     "output_type": "stream",
     "text": [
      "Collecting python-telegram-bot\n",
      "  Using cached python_telegram_bot-20.0a4-py3-none-any.whl (470 kB)\n",
      "Collecting httpx~=0.23.0\n",
      "  Using cached httpx-0.23.0-py3-none-any.whl (84 kB)\n",
      "Collecting cachetools~=5.2.0\n",
      "  Using cached cachetools-5.2.0-py3-none-any.whl (9.3 kB)\n",
      "Requirement already satisfied: tornado~=6.2 in c:\\users\\user\\anaconda3\\lib\\site-packages (from python-telegram-bot) (6.2)\n",
      "Requirement already satisfied: pytz>=2018.6 in c:\\users\\user\\anaconda3\\lib\\site-packages (from python-telegram-bot) (2021.3)\n",
      "Collecting APScheduler~=3.9.1\n",
      "  Using cached APScheduler-3.9.1-py2.py3-none-any.whl (59 kB)\n",
      "Requirement already satisfied: setuptools>=0.7 in c:\\users\\user\\anaconda3\\lib\\site-packages (from APScheduler~=3.9.1->python-telegram-bot) (58.0.4)\n",
      "Requirement already satisfied: six>=1.4.0 in c:\\users\\user\\anaconda3\\lib\\site-packages (from APScheduler~=3.9.1->python-telegram-bot) (1.16.0)\n",
      "Requirement already satisfied: tzlocal!=3.*,>=2.0 in c:\\users\\user\\anaconda3\\lib\\site-packages (from APScheduler~=3.9.1->python-telegram-bot) (4.2)\n",
      "Requirement already satisfied: httpcore<0.16.0,>=0.15.0 in c:\\users\\user\\anaconda3\\lib\\site-packages (from httpx~=0.23.0->python-telegram-bot) (0.15.0)\n",
      "Requirement already satisfied: rfc3986[idna2008]<2,>=1.3 in c:\\users\\user\\anaconda3\\lib\\site-packages (from httpx~=0.23.0->python-telegram-bot) (1.5.0)\n",
      "Requirement already satisfied: sniffio in c:\\users\\user\\anaconda3\\lib\\site-packages (from httpx~=0.23.0->python-telegram-bot) (1.2.0)\n",
      "Requirement already satisfied: certifi in c:\\users\\user\\anaconda3\\lib\\site-packages (from httpx~=0.23.0->python-telegram-bot) (2021.10.8)\n",
      "Requirement already satisfied: h11<0.13,>=0.11 in c:\\users\\user\\anaconda3\\lib\\site-packages (from httpcore<0.16.0,>=0.15.0->httpx~=0.23.0->python-telegram-bot) (0.12.0)\n",
      "Requirement already satisfied: anyio==3.* in c:\\users\\user\\anaconda3\\lib\\site-packages (from httpcore<0.16.0,>=0.15.0->httpx~=0.23.0->python-telegram-bot) (3.6.1)\n",
      "Requirement already satisfied: idna>=2.8 in c:\\users\\user\\anaconda3\\lib\\site-packages (from anyio==3.*->httpcore<0.16.0,>=0.15.0->httpx~=0.23.0->python-telegram-bot) (3.2)\n",
      "Requirement already satisfied: pytz-deprecation-shim in c:\\users\\user\\anaconda3\\lib\\site-packages (from tzlocal!=3.*,>=2.0->APScheduler~=3.9.1->python-telegram-bot) (0.1.0.post0)\n",
      "Requirement already satisfied: tzdata in c:\\users\\user\\anaconda3\\lib\\site-packages (from tzlocal!=3.*,>=2.0->APScheduler~=3.9.1->python-telegram-bot) (2022.1)\n",
      "Installing collected packages: httpx, cachetools, APScheduler, python-telegram-bot\n",
      "Successfully installed APScheduler-3.9.1 cachetools-5.2.0 httpx-0.23.0 python-telegram-bot-20.0a4\n"
     ]
    }
   ],
   "source": [
    "!pip install python-telegram-bot --pre\n"
   ]
  },
  {
   "cell_type": "code",
   "execution_count": 66,
   "id": "6d15ead6",
   "metadata": {},
   "outputs": [],
   "source": [
    "from telegram.ext import ApplicationBuilder, MessageHandler, filters"
   ]
  },
  {
   "cell_type": "code",
   "execution_count": 68,
   "id": "c155d315",
   "metadata": {},
   "outputs": [],
   "source": [
    "TOKEN = '' #берем в телеграмме у BotFather"
   ]
  },
  {
   "cell_type": "code",
   "execution_count": 69,
   "id": "23be3f24",
   "metadata": {},
   "outputs": [
    {
     "ename": "TypeError",
     "evalue": "token() missing 1 required positional argument: 'token'",
     "output_type": "error",
     "traceback": [
      "\u001b[1;31m---------------------------------------------------------------------------\u001b[0m",
      "\u001b[1;31mTypeError\u001b[0m                                 Traceback (most recent call last)",
      "\u001b[1;32m~\\AppData\\Local\\Temp/ipykernel_37796/2778100098.py\u001b[0m in \u001b[0;36m<module>\u001b[1;34m\u001b[0m\n\u001b[1;32m----> 1\u001b[1;33m \u001b[0mapp\u001b[0m \u001b[1;33m=\u001b[0m \u001b[0mApplicationBuilder\u001b[0m\u001b[1;33m(\u001b[0m\u001b[1;33m)\u001b[0m\u001b[1;33m.\u001b[0m\u001b[0mtoken\u001b[0m\u001b[1;33m(\u001b[0m\u001b[1;33m)\u001b[0m\u001b[1;33m.\u001b[0m\u001b[0mbuilt\u001b[0m\u001b[1;33m(\u001b[0m\u001b[1;33m)\u001b[0m\u001b[1;33m\u001b[0m\u001b[1;33m\u001b[0m\u001b[0m\n\u001b[0m",
      "\u001b[1;31mTypeError\u001b[0m: token() missing 1 required positional argument: 'token'"
     ]
    }
   ],
   "source": [
    "app = ApplicationBuilder().token().built()"
   ]
  },
  {
   "cell_type": "code",
   "execution_count": 70,
   "id": "c387aaa1",
   "metadata": {},
   "outputs": [
    {
     "ename": "SyntaxError",
     "evalue": "EOL while scanning string literal (Temp/ipykernel_37796/689155812.py, line 4)",
     "output_type": "error",
     "traceback": [
      "\u001b[1;36m  File \u001b[1;32m\"C:\\Users\\user\\AppData\\Local\\Temp/ipykernel_37796/689155812.py\"\u001b[1;36m, line \u001b[1;32m4\u001b[0m\n\u001b[1;33m    print(f\"Looking for {request})\u001b[0m\n\u001b[1;37m                                  ^\u001b[0m\n\u001b[1;31mSyntaxError\u001b[0m\u001b[1;31m:\u001b[0m EOL while scanning string literal\n"
     ]
    }
   ],
   "source": [
    "async def hello(update, _):\n",
    "    request = update.message.text\n",
    "    request = re.sub(r\"[\\W\\S]\",\"\", request)\n",
    "    print(f\"Looking for {request})\n",
    "    await update.message_text('Производится поиск, несколько секунд...')\n",
    "    \n",
    "    job_counts = parse_hh(request)\n",
    "    await update.message.reply_text(f'Найдено вакансий по запросу \"{request}\" : {job_count}')"
   ]
  },
  {
   "cell_type": "code",
   "execution_count": 71,
   "id": "59657c1a",
   "metadata": {},
   "outputs": [
    {
     "ename": "NameError",
     "evalue": "name 'app' is not defined",
     "output_type": "error",
     "traceback": [
      "\u001b[1;31m---------------------------------------------------------------------------\u001b[0m",
      "\u001b[1;31mNameError\u001b[0m                                 Traceback (most recent call last)",
      "\u001b[1;32m~\\AppData\\Local\\Temp/ipykernel_37796/4254728632.py\u001b[0m in \u001b[0;36m<module>\u001b[1;34m\u001b[0m\n\u001b[1;32m----> 1\u001b[1;33m \u001b[0mapp\u001b[0m\u001b[1;33m.\u001b[0m\u001b[0madd_handler\u001b[0m\u001b[1;33m(\u001b[0m\u001b[0mMessageHandler\u001b[0m\u001b[1;33m(\u001b[0m\u001b[0mfilters\u001b[0m\u001b[1;33m.\u001b[0m\u001b[0mTEXT\u001b[0m\u001b[1;33m,\u001b[0m \u001b[0mhello\u001b[0m\u001b[1;33m)\u001b[0m\u001b[1;33m)\u001b[0m\u001b[1;33m\u001b[0m\u001b[1;33m\u001b[0m\u001b[0m\n\u001b[0m",
      "\u001b[1;31mNameError\u001b[0m: name 'app' is not defined"
     ]
    }
   ],
   "source": [
    "app.add_handler(MessageHandler(filters.TEXT, hello))"
   ]
  },
  {
   "cell_type": "code",
   "execution_count": 72,
   "id": "a59ed566",
   "metadata": {},
   "outputs": [
    {
     "ename": "NameError",
     "evalue": "name 'app' is not defined",
     "output_type": "error",
     "traceback": [
      "\u001b[1;31m---------------------------------------------------------------------------\u001b[0m",
      "\u001b[1;31mNameError\u001b[0m                                 Traceback (most recent call last)",
      "\u001b[1;32m~\\AppData\\Local\\Temp/ipykernel_37796/2691458241.py\u001b[0m in \u001b[0;36m<module>\u001b[1;34m\u001b[0m\n\u001b[1;32m----> 1\u001b[1;33m \u001b[0mapp\u001b[0m\u001b[1;33m.\u001b[0m\u001b[0mrun_polling\u001b[0m\u001b[1;33m(\u001b[0m\u001b[1;33m)\u001b[0m\u001b[1;33m\u001b[0m\u001b[1;33m\u001b[0m\u001b[0m\n\u001b[0m",
      "\u001b[1;31mNameError\u001b[0m: name 'app' is not defined"
     ]
    }
   ],
   "source": [
    "app.run_polling()"
   ]
  },
  {
   "cell_type": "code",
   "execution_count": null,
   "id": "d45aaa4f",
   "metadata": {},
   "outputs": [],
   "source": []
  },
  {
   "cell_type": "markdown",
   "id": "a3f581bc",
   "metadata": {},
   "source": [
    "# Youtube"
   ]
  },
  {
   "cell_type": "code",
   "execution_count": 28,
   "id": "720ecddf",
   "metadata": {},
   "outputs": [],
   "source": [
    "import pandas as pd \n",
    "from bs4 import BeautifulSoup\n",
    "import time\n",
    "from selenium.webdriver.chrome.options import Options\n",
    "from selenium import webdriver"
   ]
  },
  {
   "cell_type": "code",
   "execution_count": 16,
   "id": "109282ff",
   "metadata": {},
   "outputs": [],
   "source": [
    "page_num = 1\n",
    "base_url = f\"https://www.g2.com/search?button=&page={page_num}&query=salesforce\""
   ]
  },
  {
   "cell_type": "code",
   "execution_count": 17,
   "id": "80e83bff",
   "metadata": {},
   "outputs": [
    {
     "name": "stderr",
     "output_type": "stream",
     "text": [
      "C:\\Users\\user\\AppData\\Local\\Temp/ipykernel_16816/564733570.py:1: DeprecationWarning: executable_path has been deprecated, please pass in a Service object\n",
      "  browser = webdriver.Chrome(executable_path=\"./chromedriver\")\n"
     ]
    }
   ],
   "source": [
    "browser = webdriver.Chrome(executable_path=\"./chromedriver\")"
   ]
  },
  {
   "cell_type": "code",
   "execution_count": 18,
   "id": "6eb39d07",
   "metadata": {},
   "outputs": [],
   "source": [
    "browser.get(base_url)"
   ]
  },
  {
   "cell_type": "code",
   "execution_count": 20,
   "id": "7009fa39",
   "metadata": {},
   "outputs": [],
   "source": [
    "with open(\"test.html\", \"w\", encoding=\"utf-8\") as file:\n",
    "    file.write(browser.page_source)"
   ]
  },
  {
   "cell_type": "code",
   "execution_count": 22,
   "id": "8807a31e",
   "metadata": {},
   "outputs": [
    {
     "ename": "KeyboardInterrupt",
     "evalue": "",
     "output_type": "error",
     "traceback": [
      "\u001b[1;31m---------------------------------------------------------------------------\u001b[0m",
      "\u001b[1;31mKeyboardInterrupt\u001b[0m                         Traceback (most recent call last)",
      "\u001b[1;32m~\\AppData\\Local\\Temp/ipykernel_16816/2482218848.py\u001b[0m in \u001b[0;36m<module>\u001b[1;34m\u001b[0m\n\u001b[0;32m      2\u001b[0m     \u001b[1;31m#browser = webdriver.Chrome(executable_path=\"./chromedriver\")\u001b[0m\u001b[1;33m\u001b[0m\u001b[1;33m\u001b[0m\u001b[0m\n\u001b[0;32m      3\u001b[0m     \u001b[0mbrowser\u001b[0m\u001b[1;33m.\u001b[0m\u001b[0mget\u001b[0m\u001b[1;33m(\u001b[0m\u001b[1;34mf\"https://www.g2.com/search?button=&page={page_num}&query=salesforce\"\u001b[0m\u001b[1;33m)\u001b[0m\u001b[1;33m\u001b[0m\u001b[1;33m\u001b[0m\u001b[0m\n\u001b[1;32m----> 4\u001b[1;33m     \u001b[0mtime\u001b[0m\u001b[1;33m.\u001b[0m\u001b[0msleep\u001b[0m\u001b[1;33m(\u001b[0m\u001b[1;36m5\u001b[0m\u001b[1;33m)\u001b[0m\u001b[1;33m\u001b[0m\u001b[1;33m\u001b[0m\u001b[0m\n\u001b[0m\u001b[0;32m      5\u001b[0m     \u001b[1;32mwith\u001b[0m \u001b[0mopen\u001b[0m\u001b[1;33m(\u001b[0m\u001b[1;34mf\"{i}test.html\"\u001b[0m\u001b[1;33m,\u001b[0m \u001b[1;34m\"w\"\u001b[0m\u001b[1;33m,\u001b[0m \u001b[0mencoding\u001b[0m\u001b[1;33m=\u001b[0m\u001b[1;34m\"utf-8\"\u001b[0m\u001b[1;33m)\u001b[0m \u001b[1;32mas\u001b[0m \u001b[0mfile\u001b[0m\u001b[1;33m:\u001b[0m\u001b[1;33m\u001b[0m\u001b[1;33m\u001b[0m\u001b[0m\n\u001b[0;32m      6\u001b[0m         \u001b[0mfile\u001b[0m\u001b[1;33m.\u001b[0m\u001b[0mwrite\u001b[0m\u001b[1;33m(\u001b[0m\u001b[0mbrowser\u001b[0m\u001b[1;33m.\u001b[0m\u001b[0mpage_source\u001b[0m\u001b[1;33m)\u001b[0m\u001b[1;33m\u001b[0m\u001b[1;33m\u001b[0m\u001b[0m\n",
      "\u001b[1;31mKeyboardInterrupt\u001b[0m: "
     ]
    }
   ],
   "source": [
    "for i in range(1, 64):\n",
    "    #browser = webdriver.Chrome(executable_path=\"./chromedriver\")\n",
    "    browser.get(f\"https://www.g2.com/search?button=&page={page_num}&query=salesforce\")\n",
    "    time.sleep(5)\n",
    "    with open(f\"{i}test.html\", \"w\", encoding=\"utf-8\") as file:\n",
    "        file.write(browser.page_source)"
   ]
  },
  {
   "cell_type": "markdown",
   "id": "c6f61e87",
   "metadata": {},
   "source": [
    "We tried to scrape but it asks to verify that u are a humen so we cannot do that"
   ]
  },
  {
   "cell_type": "code",
   "execution_count": 48,
   "id": "f4b0de3e",
   "metadata": {},
   "outputs": [],
   "source": [
    "with open(\"1test.html\", 'r') as reader:\n",
    "    html_string = reader.read()\n",
    "    soup = BeautifulSoup(html_string, 'html.parser')"
   ]
  },
  {
   "cell_type": "code",
   "execution_count": 50,
   "id": "ce984869",
   "metadata": {},
   "outputs": [],
   "source": [
    "titles=[]\n",
    "for box in soup.find_all(class_=\"paper mb-1\"):\n",
    "    titles.append(box.find_all(class_=\"d-ib c-midnight-100 js-log-click\")[0].text)\n",
    "#box.find(class_=\"w-full link--header-color\")"
   ]
  },
  {
   "cell_type": "code",
   "execution_count": 51,
   "id": "e33f8b94",
   "metadata": {},
   "outputs": [
    {
     "data": {
      "text/plain": [
       "[]"
      ]
     },
     "execution_count": 51,
     "metadata": {},
     "output_type": "execute_result"
    }
   ],
   "source": [
    "titles"
   ]
  },
  {
   "cell_type": "code",
   "execution_count": null,
   "id": "476f42eb",
   "metadata": {},
   "outputs": [],
   "source": []
  }
 ],
 "metadata": {
  "kernelspec": {
   "display_name": "Python 3 (ipykernel)",
   "language": "python",
   "name": "python3"
  },
  "language_info": {
   "codemirror_mode": {
    "name": "ipython",
    "version": 3
   },
   "file_extension": ".py",
   "mimetype": "text/x-python",
   "name": "python",
   "nbconvert_exporter": "python",
   "pygments_lexer": "ipython3",
   "version": "3.9.7"
  }
 },
 "nbformat": 4,
 "nbformat_minor": 5
}
