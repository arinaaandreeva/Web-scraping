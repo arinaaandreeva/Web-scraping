{
 "cells": [
  {
   "cell_type": "code",
   "execution_count": 1,
   "id": "a18c0025",
   "metadata": {},
   "outputs": [],
   "source": [
    "#selenium\n",
    "#beautiful soup\n",
    "import requests\n",
    "import json"
   ]
  },
  {
   "cell_type": "code",
   "execution_count": 2,
   "id": "8f8e4881",
   "metadata": {},
   "outputs": [],
   "source": [
    "REQUEST_URL=\"https://api.open-meteo.com/v1/forecast?latitude=52.52&longitude=13.41&hourly=temperature_2m\""
   ]
  },
  {
   "cell_type": "code",
   "execution_count": 3,
   "id": "dc4e0da1",
   "metadata": {},
   "outputs": [
    {
     "data": {
      "text/plain": [
       "<Response [200]>"
      ]
     },
     "execution_count": 3,
     "metadata": {},
     "output_type": "execute_result"
    }
   ],
   "source": [
    "api_resp = requests.get(REQUEST_URL)\n",
    "api_resp"
   ]
  },
  {
   "cell_type": "code",
   "execution_count": 4,
   "id": "1564d5b7",
   "metadata": {},
   "outputs": [
    {
     "data": {
      "text/plain": [
       "200"
      ]
     },
     "execution_count": 4,
     "metadata": {},
     "output_type": "execute_result"
    }
   ],
   "source": [
    "api_resp.status_code #number of error or rightness could be found in the internet (like 404)"
   ]
  },
  {
   "cell_type": "code",
   "execution_count": 5,
   "id": "bbdf0f48",
   "metadata": {},
   "outputs": [],
   "source": [
    "api_resp.raise_for_status() #will tell if there is a mistake"
   ]
  },
  {
   "cell_type": "code",
   "execution_count": 6,
   "id": "8dd4ccdd",
   "metadata": {},
   "outputs": [],
   "source": [
    "#api_resp.text #in json format, it was written in documentation of api "
   ]
  },
  {
   "cell_type": "code",
   "execution_count": 7,
   "id": "48c8ab1d",
   "metadata": {},
   "outputs": [],
   "source": [
    "#api_resp.json()"
   ]
  },
  {
   "cell_type": "code",
   "execution_count": 8,
   "id": "5958a72a",
   "metadata": {},
   "outputs": [
    {
     "name": "stdout",
     "output_type": "stream",
     "text": [
      "<class 'str'>\n",
      "<class 'dict'>\n"
     ]
    }
   ],
   "source": [
    "print(type(api_resp.text))\n",
    "print(type(api_resp.json()))"
   ]
  },
  {
   "cell_type": "code",
   "execution_count": 9,
   "id": "4e81fb47",
   "metadata": {},
   "outputs": [],
   "source": [
    "#if we use not url but a file from our disk\n",
    "#with open(\"test.json\",\"r\") as jfile:\n",
    "#    print(json.load(jfile)) \n",
    "# r is a mode, which tells why we are openning the file r-read, d-delete, w-for writting, a-to add, b-binary and etc"
   ]
  },
  {
   "cell_type": "code",
   "execution_count": 10,
   "id": "7095b975",
   "metadata": {},
   "outputs": [],
   "source": [
    "parsed_resp = api_resp.json"
   ]
  },
  {
   "cell_type": "code",
   "execution_count": 11,
   "id": "b0180f7e",
   "metadata": {},
   "outputs": [
    {
     "name": "stdout",
     "output_type": "stream",
     "text": [
      "File Not Found\n",
      "Finally run clearup\n"
     ]
    }
   ],
   "source": [
    "try:\n",
    "    open(\"kjhgfdsdfghjk\")\n",
    "    print(10/0)\n",
    "    raise MyError(\"test\")\n",
    "except FileNotFoundError:\n",
    "    print(\"File Not Found\")\n",
    "except ArithneticError:\n",
    "    print(\"Div by 0\")\n",
    "except MyError:\n",
    "    print(\"My Error\")\n",
    "finally:\n",
    "    print(\"Finally run clearup\") \n",
    "    #wtf are we doing, finding mistakes?\n",
    "    "
   ]
  },
  {
   "cell_type": "code",
   "execution_count": 12,
   "id": "bb3f226d",
   "metadata": {},
   "outputs": [],
   "source": [
    "TEMP_REQUEST_URL=\"https://api.open-meteo.com/v1/forecast\""
   ]
  },
  {
   "cell_type": "code",
   "execution_count": 17,
   "id": "9716aa9e",
   "metadata": {},
   "outputs": [],
   "source": [
    "api_resp = requests.get(REQUEST_URL, params={\n",
    "    'latitude': 52.52,\n",
    "    'longtitude': 3.41,\n",
    "    'current_weather': 'true'})\n",
    "api_resp.raise_for_status()"
   ]
  },
  {
   "cell_type": "code",
   "execution_count": 22,
   "id": "b1b19ac0",
   "metadata": {},
   "outputs": [
    {
     "data": {
      "text/plain": [
       "10.6"
      ]
     },
     "execution_count": 22,
     "metadata": {},
     "output_type": "execute_result"
    }
   ],
   "source": [
    "parsed_resp = api_resp.json()\n",
    "parsed_resp['current_weather']['temperature']"
   ]
  },
  {
   "cell_type": "code",
   "execution_count": 23,
   "id": "c12bfeac",
   "metadata": {},
   "outputs": [
    {
     "data": {
      "text/plain": [
       "10.6"
      ]
     },
     "execution_count": 23,
     "metadata": {},
     "output_type": "execute_result"
    }
   ],
   "source": [
    "def get_temp_for_coods(lat, long):\n",
    "    api_resp = requests.get(REQUEST_URL, params={\n",
    "    'latitude': lat,\n",
    "    'longtitude': long,\n",
    "    'current_weather': 'true'\n",
    "    })\n",
    "    parsed_resp = api_resp.json()\n",
    "    return parsed_resp['current_weather']['temperature']\n",
    "get_temp_for_coods(52.52, 13.41)"
   ]
  },
  {
   "cell_type": "code",
   "execution_count": 35,
   "id": "a46e673a",
   "metadata": {},
   "outputs": [],
   "source": [
    "COORD_REQUEST_URL_TEMP = \"https://geocode.xyz/{object_name}?json=1\""
   ]
  },
  {
   "cell_type": "code",
   "execution_count": 40,
   "id": "f9685168",
   "metadata": {},
   "outputs": [
    {
     "data": {
      "text/plain": [
       "('41.02935', '28.99392')"
      ]
     },
     "execution_count": 40,
     "metadata": {},
     "output_type": "execute_result"
    }
   ],
   "source": [
    "class GeocodingError(Exception):\n",
    "    pass\n",
    "\n",
    "def get_coord_for_name(name):\n",
    "    req_url = COORD_REQUEST_URL_TEMP.format(object_name = name)\n",
    "    coord_resp = requests.get(req_url)\n",
    "    coord_resp.raise_for_status()\n",
    "    parsed_resp = coord_resp.json()\n",
    "    if \"error\" in parsed_resp:\n",
    "        erdesc = parsed_resp['error'].get('description', '!SERVER RETURNED NO ERROR DESC!')\n",
    "        errn = f\"Geocode API Error: {erdesc}\"\n",
    "        raise GeocodingError(errn)  \n",
    "    lat= parsed_resp['latt']\n",
    "    long = parsed_resp['longt']\n",
    "    return lat, long\n",
    "get_coord_for_name('Istambul')"
   ]
  },
  {
   "cell_type": "code",
   "execution_count": null,
   "id": "076b501b",
   "metadata": {},
   "outputs": [],
   "source": []
  },
  {
   "cell_type": "code",
   "execution_count": null,
   "id": "78880677",
   "metadata": {},
   "outputs": [],
   "source": []
  },
  {
   "cell_type": "code",
   "execution_count": null,
   "id": "15947221",
   "metadata": {},
   "outputs": [],
   "source": []
  }
 ],
 "metadata": {
  "kernelspec": {
   "display_name": "Python 3 (ipykernel)",
   "language": "python",
   "name": "python3"
  },
  "language_info": {
   "codemirror_mode": {
    "name": "ipython",
    "version": 3
   },
   "file_extension": ".py",
   "mimetype": "text/x-python",
   "name": "python",
   "nbconvert_exporter": "python",
   "pygments_lexer": "ipython3",
   "version": "3.9.7"
  }
 },
 "nbformat": 4,
 "nbformat_minor": 5
}
